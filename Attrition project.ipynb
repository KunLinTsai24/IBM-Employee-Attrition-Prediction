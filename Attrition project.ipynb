{
 "cells": [
  {
   "cell_type": "markdown",
   "id": "1052780a",
   "metadata": {},
   "source": [
    "# Summary"
   ]
  },
  {
   "cell_type": "markdown",
   "id": "8e3d690c",
   "metadata": {},
   "source": [
    "* The data originates from IBM's HR department. I utilize this dataset to determine the key factors contributing to employee turnover. To identify these factors, I formulate hypotheses for each and employ SPSS for statistical analysis, using the chi-square test for categorical variables and the independent sample t-test for continuous ones. The statistical findings provide insights into the reasons for attrition. I've processed the data for all variables. Continuous variables are standardized to negate the impact of varying scales. For binary categorical variables, I apply one-hot encoding, and for those with more than two levels, I use frequency encoding. This encoding simplifies the model. I then employ these factors to develop various machine learning models such as logistic regression, LDA, KNN, random forest, and decision tree. After partitioning the data into training and test sets, I  address the issue of imbalanced samples to mitigate potential biases. The optimal model is chosen based on a confusion matrix that maximizes true positives and minimizes false negatives, indicating its superior predictive capability for identifying potential departures. The logistic regression model proves to be the best. Using the true positive rate, I estimate the potential cost and time savings for IBM. Ultimately, the model could result in savings ranging from 136,000 to 259,930 and a time reduction of 1,428 to 1,768 days."
   ]
  },
  {
   "cell_type": "markdown",
   "id": "e3822bf4",
   "metadata": {},
   "source": [
    "# Situation"
   ]
  },
  {
   "cell_type": "markdown",
   "id": "8662824e",
   "metadata": {},
   "source": [
    "* In mid-2019, Gallup reported that U.S. businesses were losing a trillion dollars annually due to voluntary employee turnover. The U.S. Bureau of Labor Statistics also highlighted that over 40 million American workers, representing 26.9% of the workforce, quit their jobs in 2018. For individual organizations, the cost of replacing an employee can be significant, ranging from half to twice the employee's annual salary."
   ]
  },
  {
   "cell_type": "markdown",
   "id": "31f13fff",
   "metadata": {},
   "source": [
    "* A **best-worst scenario** for an employee who leaves a company.\n",
    "\n",
    "|                                  | Best scenario | Worst scenario |\n",
    "|----------------------------------|---------------|----------------|\n",
    "| **Cost \\($\\)**                       | 4,000          | 7,645           |\n",
    "| **Time to fill a position \\(days\\)** | 42            | 52             |"
   ]
  },
  {
   "cell_type": "markdown",
   "id": "4f635af1",
   "metadata": {},
   "source": [
    "# Task"
   ]
  },
  {
   "cell_type": "markdown",
   "id": "c1620e3d",
   "metadata": {},
   "source": [
    "* The primary objective was to figure out the important factors cause attrition and build a machine learning model to identify employees most likely to leave. This would help in curbing turnover costs and ensuring a more engaged workforce.\n",
    "\n",
    "* When building a machine learning model, we are going to focus on **sensitivity** and then **classification error**, that is, **minimizing the False Negatives while maximizing the True Positives**."
   ]
  },
  {
   "cell_type": "markdown",
   "id": "ce394240",
   "metadata": {},
   "source": [
    "# Action"
   ]
  },
  {
   "cell_type": "markdown",
   "id": "1a370c3f",
   "metadata": {},
   "source": [
    "## Hypothesis Testing"
   ]
  },
  {
   "cell_type": "markdown",
   "id": "c419f5a0",
   "metadata": {},
   "source": [
    "* **H1. Young people tend to leave.**\n",
    "\n",
    "        True, T-test <0.05\n",
    "    \n",
    "* H2. People that have higher degree of education tend to leave more.\n",
    "\n",
    "        False, Chi-Square>0.05\n",
    "\n",
    "* **H3. People who live far from work tend to leave.**\n",
    "\n",
    "        True, T-test<0.05\n",
    "\n",
    "* **H4. Single people tend to leave.**\n",
    "\n",
    "        True, Chi-Square <0.05\n",
    "\n",
    "* **H5. People who make overtime tend to leave more.**\n",
    "\n",
    "        True, Chi-Square <0.05\n",
    "\n",
    "* **H8. People who have lower job level tend to leave more.**\n",
    "\n",
    "        True, Chi-Square <0.05\n",
    "    \n",
    "* H9. People who weren't promoted for long time tend to leave more.\n",
    "\n",
    "        False, T-test>0.05\n",
    "    \n",
    "* **H10. People who are in the current role for long time tend to leave more.**\n",
    "\n",
    "        False, T-test<0.05, short time tend to leave more\n",
    "        \n",
    "* **H11. People who feel less involved with the job tend to leave more.**\n",
    "\n",
    "        True, Chi-Square <0.05\n",
    "    \n",
    "* **H12. People who feel less satisfied with the job tend to leave more.**\n",
    "\n",
    "        True, Chi-Square <0.05\n",
    "    \n",
    "\n",
    "* **H13. People who feel less satisfied with the environment tend to leave more.**\n",
    "\n",
    "        True, Chi-Square <0.05\n",
    "    \n",
    "\n",
    "* **H14. People who have lower work life balance tend to leave more.**\n",
    "\n",
    "        True, Chi-Square <0.05\n",
    "    \n",
    "\n",
    "* **H15. People who professionally worked for more years tend to not leave.**\n",
    "\n",
    "        True, T-test<0.05\n",
    "    \n",
    "* **H16. People who worked at the same company for more years tend not to leave.**\n",
    "\n",
    "        True, T-test<0.05\n",
    "    \n",
    "* H17. People who are job hoppers tend to leave.\n",
    "\n",
    "        False, T-test>0.05\n",
    "\n",
    "* **H18. People who are making more money tend not to leave.**\n",
    "\n",
    "        True, T-test<0.05\n",
    "    \n",
    "* H19. People who have lower salary hike tend to leave.\n",
    "\n",
    "        False, T-test>0.05\n",
    "\n",
    "* **H20. People who received less training last year tend to leave more.**\n",
    "\n",
    "        True, T-test<0.05\n",
    "\n",
    "* **H21. People who have been working for the same manager for short years tend to leave more.**\n",
    "\n",
    "        True, T-test<0.05\n",
    "    \n",
    "* H22. People who have lower quality of relationship with the manager tend to leave more.\n",
    "\n",
    "        False, Chi-Square>0.05\n",
    "\n",
    "* **H23. People who travel more frequently tend to leave more.**\n",
    "\n",
    "        True, Chi-Square<0.05"
   ]
  },
  {
   "cell_type": "markdown",
   "id": "9a9260c6",
   "metadata": {},
   "source": [
    "* The hypothesis testing give me some thought about the factors causing attrition. However, I included all the variables in model building because there could be some interaction between variables and resulting in some influence."
   ]
  },
  {
   "cell_type": "markdown",
   "id": "f05e3751",
   "metadata": {},
   "source": [
    "## Data preparation"
   ]
  },
  {
   "cell_type": "code",
   "execution_count": 43,
   "id": "c0274738",
   "metadata": {},
   "outputs": [],
   "source": [
    "import pandas as pd\n",
    "import numpy as np\n",
    "import warnings\n",
    "warnings.simplefilter(action='ignore', category=FutureWarning)"
   ]
  },
  {
   "cell_type": "code",
   "execution_count": 44,
   "id": "e4920338",
   "metadata": {},
   "outputs": [
    {
     "data": {
      "text/html": [
       "<div>\n",
       "<style scoped>\n",
       "    .dataframe tbody tr th:only-of-type {\n",
       "        vertical-align: middle;\n",
       "    }\n",
       "\n",
       "    .dataframe tbody tr th {\n",
       "        vertical-align: top;\n",
       "    }\n",
       "\n",
       "    .dataframe thead th {\n",
       "        text-align: right;\n",
       "    }\n",
       "</style>\n",
       "<table border=\"1\" class=\"dataframe\">\n",
       "  <thead>\n",
       "    <tr style=\"text-align: right;\">\n",
       "      <th></th>\n",
       "      <th>Age</th>\n",
       "      <th>DailyRate</th>\n",
       "      <th>DistanceFromHome</th>\n",
       "      <th>Education</th>\n",
       "      <th>EmployeeCount</th>\n",
       "      <th>EmployeeNumber</th>\n",
       "      <th>EnvironmentSatisfaction</th>\n",
       "      <th>HourlyRate</th>\n",
       "      <th>JobInvolvement</th>\n",
       "      <th>JobLevel</th>\n",
       "      <th>...</th>\n",
       "      <th>RelationshipSatisfaction</th>\n",
       "      <th>StandardHours</th>\n",
       "      <th>StockOptionLevel</th>\n",
       "      <th>TotalWorkingYears</th>\n",
       "      <th>TrainingTimesLastYear</th>\n",
       "      <th>WorkLifeBalance</th>\n",
       "      <th>YearsAtCompany</th>\n",
       "      <th>YearsInCurrentRole</th>\n",
       "      <th>YearsSinceLastPromotion</th>\n",
       "      <th>YearsWithCurrManager</th>\n",
       "    </tr>\n",
       "  </thead>\n",
       "  <tbody>\n",
       "    <tr>\n",
       "      <th>count</th>\n",
       "      <td>1470.000000</td>\n",
       "      <td>1470.000000</td>\n",
       "      <td>1470.000000</td>\n",
       "      <td>1470.000000</td>\n",
       "      <td>1470.0</td>\n",
       "      <td>1470.000000</td>\n",
       "      <td>1470.000000</td>\n",
       "      <td>1470.000000</td>\n",
       "      <td>1470.000000</td>\n",
       "      <td>1470.000000</td>\n",
       "      <td>...</td>\n",
       "      <td>1470.000000</td>\n",
       "      <td>1470.0</td>\n",
       "      <td>1470.000000</td>\n",
       "      <td>1470.000000</td>\n",
       "      <td>1470.000000</td>\n",
       "      <td>1470.000000</td>\n",
       "      <td>1470.000000</td>\n",
       "      <td>1470.000000</td>\n",
       "      <td>1470.000000</td>\n",
       "      <td>1470.000000</td>\n",
       "    </tr>\n",
       "    <tr>\n",
       "      <th>mean</th>\n",
       "      <td>36.923810</td>\n",
       "      <td>802.485714</td>\n",
       "      <td>9.192517</td>\n",
       "      <td>2.912925</td>\n",
       "      <td>1.0</td>\n",
       "      <td>1024.865306</td>\n",
       "      <td>2.721769</td>\n",
       "      <td>65.891156</td>\n",
       "      <td>2.729932</td>\n",
       "      <td>2.063946</td>\n",
       "      <td>...</td>\n",
       "      <td>2.712245</td>\n",
       "      <td>80.0</td>\n",
       "      <td>0.793878</td>\n",
       "      <td>11.279592</td>\n",
       "      <td>2.799320</td>\n",
       "      <td>2.761224</td>\n",
       "      <td>7.008163</td>\n",
       "      <td>4.229252</td>\n",
       "      <td>2.187755</td>\n",
       "      <td>4.123129</td>\n",
       "    </tr>\n",
       "    <tr>\n",
       "      <th>std</th>\n",
       "      <td>9.135373</td>\n",
       "      <td>403.509100</td>\n",
       "      <td>8.106864</td>\n",
       "      <td>1.024165</td>\n",
       "      <td>0.0</td>\n",
       "      <td>602.024335</td>\n",
       "      <td>1.093082</td>\n",
       "      <td>20.329428</td>\n",
       "      <td>0.711561</td>\n",
       "      <td>1.106940</td>\n",
       "      <td>...</td>\n",
       "      <td>1.081209</td>\n",
       "      <td>0.0</td>\n",
       "      <td>0.852077</td>\n",
       "      <td>7.780782</td>\n",
       "      <td>1.289271</td>\n",
       "      <td>0.706476</td>\n",
       "      <td>6.126525</td>\n",
       "      <td>3.623137</td>\n",
       "      <td>3.222430</td>\n",
       "      <td>3.568136</td>\n",
       "    </tr>\n",
       "    <tr>\n",
       "      <th>min</th>\n",
       "      <td>18.000000</td>\n",
       "      <td>102.000000</td>\n",
       "      <td>1.000000</td>\n",
       "      <td>1.000000</td>\n",
       "      <td>1.0</td>\n",
       "      <td>1.000000</td>\n",
       "      <td>1.000000</td>\n",
       "      <td>30.000000</td>\n",
       "      <td>1.000000</td>\n",
       "      <td>1.000000</td>\n",
       "      <td>...</td>\n",
       "      <td>1.000000</td>\n",
       "      <td>80.0</td>\n",
       "      <td>0.000000</td>\n",
       "      <td>0.000000</td>\n",
       "      <td>0.000000</td>\n",
       "      <td>1.000000</td>\n",
       "      <td>0.000000</td>\n",
       "      <td>0.000000</td>\n",
       "      <td>0.000000</td>\n",
       "      <td>0.000000</td>\n",
       "    </tr>\n",
       "    <tr>\n",
       "      <th>25%</th>\n",
       "      <td>30.000000</td>\n",
       "      <td>465.000000</td>\n",
       "      <td>2.000000</td>\n",
       "      <td>2.000000</td>\n",
       "      <td>1.0</td>\n",
       "      <td>491.250000</td>\n",
       "      <td>2.000000</td>\n",
       "      <td>48.000000</td>\n",
       "      <td>2.000000</td>\n",
       "      <td>1.000000</td>\n",
       "      <td>...</td>\n",
       "      <td>2.000000</td>\n",
       "      <td>80.0</td>\n",
       "      <td>0.000000</td>\n",
       "      <td>6.000000</td>\n",
       "      <td>2.000000</td>\n",
       "      <td>2.000000</td>\n",
       "      <td>3.000000</td>\n",
       "      <td>2.000000</td>\n",
       "      <td>0.000000</td>\n",
       "      <td>2.000000</td>\n",
       "    </tr>\n",
       "    <tr>\n",
       "      <th>50%</th>\n",
       "      <td>36.000000</td>\n",
       "      <td>802.000000</td>\n",
       "      <td>7.000000</td>\n",
       "      <td>3.000000</td>\n",
       "      <td>1.0</td>\n",
       "      <td>1020.500000</td>\n",
       "      <td>3.000000</td>\n",
       "      <td>66.000000</td>\n",
       "      <td>3.000000</td>\n",
       "      <td>2.000000</td>\n",
       "      <td>...</td>\n",
       "      <td>3.000000</td>\n",
       "      <td>80.0</td>\n",
       "      <td>1.000000</td>\n",
       "      <td>10.000000</td>\n",
       "      <td>3.000000</td>\n",
       "      <td>3.000000</td>\n",
       "      <td>5.000000</td>\n",
       "      <td>3.000000</td>\n",
       "      <td>1.000000</td>\n",
       "      <td>3.000000</td>\n",
       "    </tr>\n",
       "    <tr>\n",
       "      <th>75%</th>\n",
       "      <td>43.000000</td>\n",
       "      <td>1157.000000</td>\n",
       "      <td>14.000000</td>\n",
       "      <td>4.000000</td>\n",
       "      <td>1.0</td>\n",
       "      <td>1555.750000</td>\n",
       "      <td>4.000000</td>\n",
       "      <td>83.750000</td>\n",
       "      <td>3.000000</td>\n",
       "      <td>3.000000</td>\n",
       "      <td>...</td>\n",
       "      <td>4.000000</td>\n",
       "      <td>80.0</td>\n",
       "      <td>1.000000</td>\n",
       "      <td>15.000000</td>\n",
       "      <td>3.000000</td>\n",
       "      <td>3.000000</td>\n",
       "      <td>9.000000</td>\n",
       "      <td>7.000000</td>\n",
       "      <td>3.000000</td>\n",
       "      <td>7.000000</td>\n",
       "    </tr>\n",
       "    <tr>\n",
       "      <th>max</th>\n",
       "      <td>60.000000</td>\n",
       "      <td>1499.000000</td>\n",
       "      <td>29.000000</td>\n",
       "      <td>5.000000</td>\n",
       "      <td>1.0</td>\n",
       "      <td>2068.000000</td>\n",
       "      <td>4.000000</td>\n",
       "      <td>100.000000</td>\n",
       "      <td>4.000000</td>\n",
       "      <td>5.000000</td>\n",
       "      <td>...</td>\n",
       "      <td>4.000000</td>\n",
       "      <td>80.0</td>\n",
       "      <td>3.000000</td>\n",
       "      <td>40.000000</td>\n",
       "      <td>6.000000</td>\n",
       "      <td>4.000000</td>\n",
       "      <td>40.000000</td>\n",
       "      <td>18.000000</td>\n",
       "      <td>15.000000</td>\n",
       "      <td>17.000000</td>\n",
       "    </tr>\n",
       "  </tbody>\n",
       "</table>\n",
       "<p>8 rows × 26 columns</p>\n",
       "</div>"
      ],
      "text/plain": [
       "               Age    DailyRate  DistanceFromHome    Education  EmployeeCount  \\\n",
       "count  1470.000000  1470.000000       1470.000000  1470.000000         1470.0   \n",
       "mean     36.923810   802.485714          9.192517     2.912925            1.0   \n",
       "std       9.135373   403.509100          8.106864     1.024165            0.0   \n",
       "min      18.000000   102.000000          1.000000     1.000000            1.0   \n",
       "25%      30.000000   465.000000          2.000000     2.000000            1.0   \n",
       "50%      36.000000   802.000000          7.000000     3.000000            1.0   \n",
       "75%      43.000000  1157.000000         14.000000     4.000000            1.0   \n",
       "max      60.000000  1499.000000         29.000000     5.000000            1.0   \n",
       "\n",
       "       EmployeeNumber  EnvironmentSatisfaction   HourlyRate  JobInvolvement  \\\n",
       "count     1470.000000              1470.000000  1470.000000     1470.000000   \n",
       "mean      1024.865306                 2.721769    65.891156        2.729932   \n",
       "std        602.024335                 1.093082    20.329428        0.711561   \n",
       "min          1.000000                 1.000000    30.000000        1.000000   \n",
       "25%        491.250000                 2.000000    48.000000        2.000000   \n",
       "50%       1020.500000                 3.000000    66.000000        3.000000   \n",
       "75%       1555.750000                 4.000000    83.750000        3.000000   \n",
       "max       2068.000000                 4.000000   100.000000        4.000000   \n",
       "\n",
       "          JobLevel  ...  RelationshipSatisfaction  StandardHours  \\\n",
       "count  1470.000000  ...               1470.000000         1470.0   \n",
       "mean      2.063946  ...                  2.712245           80.0   \n",
       "std       1.106940  ...                  1.081209            0.0   \n",
       "min       1.000000  ...                  1.000000           80.0   \n",
       "25%       1.000000  ...                  2.000000           80.0   \n",
       "50%       2.000000  ...                  3.000000           80.0   \n",
       "75%       3.000000  ...                  4.000000           80.0   \n",
       "max       5.000000  ...                  4.000000           80.0   \n",
       "\n",
       "       StockOptionLevel  TotalWorkingYears  TrainingTimesLastYear  \\\n",
       "count       1470.000000        1470.000000            1470.000000   \n",
       "mean           0.793878          11.279592               2.799320   \n",
       "std            0.852077           7.780782               1.289271   \n",
       "min            0.000000           0.000000               0.000000   \n",
       "25%            0.000000           6.000000               2.000000   \n",
       "50%            1.000000          10.000000               3.000000   \n",
       "75%            1.000000          15.000000               3.000000   \n",
       "max            3.000000          40.000000               6.000000   \n",
       "\n",
       "       WorkLifeBalance  YearsAtCompany  YearsInCurrentRole  \\\n",
       "count      1470.000000     1470.000000         1470.000000   \n",
       "mean          2.761224        7.008163            4.229252   \n",
       "std           0.706476        6.126525            3.623137   \n",
       "min           1.000000        0.000000            0.000000   \n",
       "25%           2.000000        3.000000            2.000000   \n",
       "50%           3.000000        5.000000            3.000000   \n",
       "75%           3.000000        9.000000            7.000000   \n",
       "max           4.000000       40.000000           18.000000   \n",
       "\n",
       "       YearsSinceLastPromotion  YearsWithCurrManager  \n",
       "count              1470.000000           1470.000000  \n",
       "mean                  2.187755              4.123129  \n",
       "std                   3.222430              3.568136  \n",
       "min                   0.000000              0.000000  \n",
       "25%                   0.000000              2.000000  \n",
       "50%                   1.000000              3.000000  \n",
       "75%                   3.000000              7.000000  \n",
       "max                  15.000000             17.000000  \n",
       "\n",
       "[8 rows x 26 columns]"
      ]
     },
     "execution_count": 44,
     "metadata": {},
     "output_type": "execute_result"
    }
   ],
   "source": [
    "df_employee = pd.read_csv('HR-Employee-Attrition.csv')\n",
    "df_employee.describe()"
   ]
  },
  {
   "cell_type": "code",
   "execution_count": 45,
   "id": "970f7cb7",
   "metadata": {},
   "outputs": [
    {
     "name": "stdout",
     "output_type": "stream",
     "text": [
      "<class 'pandas.core.frame.DataFrame'>\n",
      "RangeIndex: 1470 entries, 0 to 1469\n",
      "Data columns (total 35 columns):\n",
      " #   Column                    Non-Null Count  Dtype \n",
      "---  ------                    --------------  ----- \n",
      " 0   Age                       1470 non-null   int64 \n",
      " 1   Attrition                 1470 non-null   object\n",
      " 2   BusinessTravel            1470 non-null   object\n",
      " 3   DailyRate                 1470 non-null   int64 \n",
      " 4   Department                1470 non-null   object\n",
      " 5   DistanceFromHome          1470 non-null   int64 \n",
      " 6   Education                 1470 non-null   int64 \n",
      " 7   EducationField            1470 non-null   object\n",
      " 8   EmployeeCount             1470 non-null   int64 \n",
      " 9   EmployeeNumber            1470 non-null   int64 \n",
      " 10  EnvironmentSatisfaction   1470 non-null   int64 \n",
      " 11  Gender                    1470 non-null   object\n",
      " 12  HourlyRate                1470 non-null   int64 \n",
      " 13  JobInvolvement            1470 non-null   int64 \n",
      " 14  JobLevel                  1470 non-null   int64 \n",
      " 15  JobRole                   1470 non-null   object\n",
      " 16  JobSatisfaction           1470 non-null   int64 \n",
      " 17  MaritalStatus             1470 non-null   object\n",
      " 18  MonthlyIncome             1470 non-null   int64 \n",
      " 19  MonthlyRate               1470 non-null   int64 \n",
      " 20  NumCompaniesWorked        1470 non-null   int64 \n",
      " 21  Over18                    1470 non-null   object\n",
      " 22  OverTime                  1470 non-null   object\n",
      " 23  PercentSalaryHike         1470 non-null   int64 \n",
      " 24  PerformanceRating         1470 non-null   int64 \n",
      " 25  RelationshipSatisfaction  1470 non-null   int64 \n",
      " 26  StandardHours             1470 non-null   int64 \n",
      " 27  StockOptionLevel          1470 non-null   int64 \n",
      " 28  TotalWorkingYears         1470 non-null   int64 \n",
      " 29  TrainingTimesLastYear     1470 non-null   int64 \n",
      " 30  WorkLifeBalance           1470 non-null   int64 \n",
      " 31  YearsAtCompany            1470 non-null   int64 \n",
      " 32  YearsInCurrentRole        1470 non-null   int64 \n",
      " 33  YearsSinceLastPromotion   1470 non-null   int64 \n",
      " 34  YearsWithCurrManager      1470 non-null   int64 \n",
      "dtypes: int64(26), object(9)\n",
      "memory usage: 402.1+ KB\n"
     ]
    }
   ],
   "source": [
    "df_employee.info()"
   ]
  },
  {
   "cell_type": "markdown",
   "id": "eaa57ea5",
   "metadata": {},
   "source": [
    "### data transformation"
   ]
  },
  {
   "cell_type": "code",
   "execution_count": 46,
   "id": "4a956b9b",
   "metadata": {},
   "outputs": [],
   "source": [
    "con_var=['Age','DistanceFromHome','YearsInCurrentRole','YearsAtCompany','YearsWithCurrManager','TotalWorkingYears','TrainingTimesLastYear','MonthlyIncome']\n",
    "bi_var=['OverTime']\n",
    "cat_var=['MaritalStatus','JobLevel','JobInvolvement','JobSatisfaction','EnvironmentSatisfaction','WorkLifeBalance','BusinessTravel','Education','PerformanceRating','RelationshipSatisfaction']\n",
    "pre_var=['Attrition']\n",
    "\n",
    "con_data=df_employee.loc[:,con_var]\n",
    "bi_data=df_employee.loc[:,bi_var]\n",
    "cat_data=df_employee.loc[:,cat_var]\n",
    "pre_data=df_employee.loc[:,pre_var]"
   ]
  },
  {
   "cell_type": "code",
   "execution_count": 47,
   "id": "3f9cbd10",
   "metadata": {},
   "outputs": [],
   "source": [
    "from sklearn.preprocessing import StandardScaler\n",
    "\n",
    "train_predict = [col for col in con_data.columns if con_data[col].dtype != 'object']\n",
    "\n",
    "train_scaler = StandardScaler()\n",
    "for col in train_predict:\n",
    "    con_data[col] = train_scaler.fit_transform(con_data[col].array.reshape(-1,1))"
   ]
  },
  {
   "cell_type": "code",
   "execution_count": 48,
   "id": "f2c5487a",
   "metadata": {},
   "outputs": [],
   "source": [
    "cat_data['EnvironmentSatisfaction'] = cat_data['EnvironmentSatisfaction'].apply(lambda x: 'Low' if x == 1 \n",
    "                                                                                        else 'Medium' if x == 2 \n",
    "                                                                                        else 'High' if x == 3 \n",
    "                                                                                        else 'Very High')\n",
    "\n",
    "\n",
    "cat_data['JobInvolvement'] = cat_data['JobInvolvement'].apply(lambda x: 'Low' if x == 1\n",
    "                                                                      else 'Medium' if x == 2 \n",
    "                                                                      else 'High' if x == 3 \n",
    "                                                                      else 'Very High')\n",
    "\n",
    "\n",
    "cat_data['JobLevel'] = cat_data['JobLevel'].apply(lambda x: 'Junior' if x == 1\n",
    "                                                                else 'Mid' if x == 2 \n",
    "                                                                else 'Senior' if x == 3 \n",
    "                                                                else 'Manager' if x ==4 \n",
    "                                                                else 'Director')\n",
    "\n",
    "\n",
    "cat_data['JobSatisfaction'] = cat_data['JobSatisfaction'].apply(lambda x: 'Low' if x == 1\n",
    "                                                                        else 'Medium' if x == 2\n",
    "                                                                        else 'High' if x == 3 \n",
    "                                                                        else 'Very High')\n",
    "\n",
    "\n",
    "cat_data['WorkLifeBalance'] = cat_data['WorkLifeBalance'].apply(lambda x: 'Bad' if x == 1\n",
    "                                                                          else 'Good' if x == 2\n",
    "                                                                          else 'Better' if x == 3 \n",
    "                                                                          else 'Best')\n",
    "\n",
    "cat_data['Education'] = cat_data['Education'].apply(lambda x: 'Bellow College' if x == 1 \n",
    "                                                          else 'College' if x == 2 \n",
    "                                                          else 'Bachelor' if x == 3 \n",
    "                                                          else 'Master' if x == 4 \n",
    "                                                          else 'Doctor')\n",
    "\n",
    "cat_data['PerformanceRating'] = cat_data['PerformanceRating'].apply(lambda x: 'Low' if x == 1\n",
    "                                                                            else 'Good' if x == 2\n",
    "                                                                            else 'Excellent' if x == 3 \n",
    "                                                                            else 'Outstanding')\n",
    "\n",
    "\n",
    "df_employee['RelationshipSatisfaction'] = df_employee['RelationshipSatisfaction'].apply(lambda x: 'Low' if x == 1\n",
    "                                                                                          else 'Medium' if x == 2\n",
    "                                                                                          else 'High' if x == 3 \n",
    "                                                                                          else 'Very High')\n"
   ]
  },
  {
   "cell_type": "code",
   "execution_count": 49,
   "id": "d3c5de04",
   "metadata": {},
   "outputs": [],
   "source": [
    "bi_dummies = pd.get_dummies(bi_data,drop_first=True)"
   ]
  },
  {
   "cell_type": "code",
   "execution_count": 50,
   "id": "3e82c489",
   "metadata": {},
   "outputs": [],
   "source": [
    "def get_encoded_frequencies(df, column_name):\n",
    "\n",
    "    # Calculate the frequency of each category\n",
    "    encoding = df[column_name].value_counts().to_dict()\n",
    "    \n",
    "    # Create a new dataframe to avoid modifying the original\n",
    "    df[column_name] = df[column_name].map(encoding)\n",
    "    \n",
    "    return df\n"
   ]
  },
  {
   "cell_type": "code",
   "execution_count": 51,
   "id": "3de885de",
   "metadata": {},
   "outputs": [],
   "source": [
    "for i in cat_var:\n",
    "    get_encoded_frequencies(cat_data,i)"
   ]
  },
  {
   "cell_type": "code",
   "execution_count": 52,
   "id": "4d6b3a71",
   "metadata": {},
   "outputs": [],
   "source": [
    "pre_dummies = pd.get_dummies(pre_data,drop_first=True)"
   ]
  },
  {
   "cell_type": "code",
   "execution_count": 53,
   "id": "f8a2f5e7",
   "metadata": {},
   "outputs": [],
   "source": [
    "attrition_data=pd.concat([con_data,bi_dummies,cat_data,pre_dummies],axis=1)"
   ]
  },
  {
   "cell_type": "code",
   "execution_count": 54,
   "id": "2f46c75f",
   "metadata": {
    "scrolled": false
   },
   "outputs": [
    {
     "data": {
      "text/html": [
       "<div>\n",
       "<style scoped>\n",
       "    .dataframe tbody tr th:only-of-type {\n",
       "        vertical-align: middle;\n",
       "    }\n",
       "\n",
       "    .dataframe tbody tr th {\n",
       "        vertical-align: top;\n",
       "    }\n",
       "\n",
       "    .dataframe thead th {\n",
       "        text-align: right;\n",
       "    }\n",
       "</style>\n",
       "<table border=\"1\" class=\"dataframe\">\n",
       "  <thead>\n",
       "    <tr style=\"text-align: right;\">\n",
       "      <th></th>\n",
       "      <th>Age</th>\n",
       "      <th>DistanceFromHome</th>\n",
       "      <th>YearsInCurrentRole</th>\n",
       "      <th>YearsAtCompany</th>\n",
       "      <th>YearsWithCurrManager</th>\n",
       "      <th>TotalWorkingYears</th>\n",
       "      <th>TrainingTimesLastYear</th>\n",
       "      <th>MonthlyIncome</th>\n",
       "      <th>OverTime_Yes</th>\n",
       "      <th>MaritalStatus</th>\n",
       "      <th>JobLevel</th>\n",
       "      <th>JobInvolvement</th>\n",
       "      <th>JobSatisfaction</th>\n",
       "      <th>EnvironmentSatisfaction</th>\n",
       "      <th>WorkLifeBalance</th>\n",
       "      <th>BusinessTravel</th>\n",
       "      <th>Education</th>\n",
       "      <th>PerformanceRating</th>\n",
       "      <th>RelationshipSatisfaction</th>\n",
       "      <th>Attrition_Yes</th>\n",
       "    </tr>\n",
       "  </thead>\n",
       "  <tbody>\n",
       "    <tr>\n",
       "      <th>0</th>\n",
       "      <td>0.446350</td>\n",
       "      <td>-1.010909</td>\n",
       "      <td>-0.063296</td>\n",
       "      <td>-0.164613</td>\n",
       "      <td>0.245834</td>\n",
       "      <td>-0.421642</td>\n",
       "      <td>-2.171982</td>\n",
       "      <td>-0.108350</td>\n",
       "      <td>True</td>\n",
       "      <td>470</td>\n",
       "      <td>534</td>\n",
       "      <td>868</td>\n",
       "      <td>459</td>\n",
       "      <td>287</td>\n",
       "      <td>80</td>\n",
       "      <td>1043</td>\n",
       "      <td>282</td>\n",
       "      <td>1244</td>\n",
       "      <td>276</td>\n",
       "      <td>True</td>\n",
       "    </tr>\n",
       "    <tr>\n",
       "      <th>1</th>\n",
       "      <td>1.322365</td>\n",
       "      <td>-0.147150</td>\n",
       "      <td>0.764998</td>\n",
       "      <td>0.488508</td>\n",
       "      <td>0.806541</td>\n",
       "      <td>-0.164511</td>\n",
       "      <td>0.155707</td>\n",
       "      <td>-0.291719</td>\n",
       "      <td>False</td>\n",
       "      <td>673</td>\n",
       "      <td>534</td>\n",
       "      <td>375</td>\n",
       "      <td>280</td>\n",
       "      <td>453</td>\n",
       "      <td>893</td>\n",
       "      <td>277</td>\n",
       "      <td>170</td>\n",
       "      <td>226</td>\n",
       "      <td>432</td>\n",
       "      <td>False</td>\n",
       "    </tr>\n",
       "    <tr>\n",
       "      <th>2</th>\n",
       "      <td>0.008343</td>\n",
       "      <td>-0.887515</td>\n",
       "      <td>-1.167687</td>\n",
       "      <td>-1.144294</td>\n",
       "      <td>-1.155935</td>\n",
       "      <td>-0.550208</td>\n",
       "      <td>0.155707</td>\n",
       "      <td>-0.937654</td>\n",
       "      <td>True</td>\n",
       "      <td>470</td>\n",
       "      <td>543</td>\n",
       "      <td>375</td>\n",
       "      <td>442</td>\n",
       "      <td>446</td>\n",
       "      <td>893</td>\n",
       "      <td>1043</td>\n",
       "      <td>282</td>\n",
       "      <td>1244</td>\n",
       "      <td>303</td>\n",
       "      <td>True</td>\n",
       "    </tr>\n",
       "    <tr>\n",
       "      <th>3</th>\n",
       "      <td>-0.429664</td>\n",
       "      <td>-0.764121</td>\n",
       "      <td>0.764998</td>\n",
       "      <td>0.161947</td>\n",
       "      <td>-1.155935</td>\n",
       "      <td>-0.421642</td>\n",
       "      <td>0.155707</td>\n",
       "      <td>-0.763634</td>\n",
       "      <td>True</td>\n",
       "      <td>673</td>\n",
       "      <td>543</td>\n",
       "      <td>868</td>\n",
       "      <td>442</td>\n",
       "      <td>446</td>\n",
       "      <td>893</td>\n",
       "      <td>277</td>\n",
       "      <td>398</td>\n",
       "      <td>1244</td>\n",
       "      <td>459</td>\n",
       "      <td>False</td>\n",
       "    </tr>\n",
       "    <tr>\n",
       "      <th>4</th>\n",
       "      <td>-1.086676</td>\n",
       "      <td>-0.887515</td>\n",
       "      <td>-0.615492</td>\n",
       "      <td>-0.817734</td>\n",
       "      <td>-0.595227</td>\n",
       "      <td>-0.678774</td>\n",
       "      <td>0.155707</td>\n",
       "      <td>-0.644858</td>\n",
       "      <td>False</td>\n",
       "      <td>673</td>\n",
       "      <td>543</td>\n",
       "      <td>868</td>\n",
       "      <td>280</td>\n",
       "      <td>284</td>\n",
       "      <td>893</td>\n",
       "      <td>1043</td>\n",
       "      <td>170</td>\n",
       "      <td>1244</td>\n",
       "      <td>432</td>\n",
       "      <td>False</td>\n",
       "    </tr>\n",
       "    <tr>\n",
       "      <th>...</th>\n",
       "      <td>...</td>\n",
       "      <td>...</td>\n",
       "      <td>...</td>\n",
       "      <td>...</td>\n",
       "      <td>...</td>\n",
       "      <td>...</td>\n",
       "      <td>...</td>\n",
       "      <td>...</td>\n",
       "      <td>...</td>\n",
       "      <td>...</td>\n",
       "      <td>...</td>\n",
       "      <td>...</td>\n",
       "      <td>...</td>\n",
       "      <td>...</td>\n",
       "      <td>...</td>\n",
       "      <td>...</td>\n",
       "      <td>...</td>\n",
       "      <td>...</td>\n",
       "      <td>...</td>\n",
       "      <td>...</td>\n",
       "    </tr>\n",
       "    <tr>\n",
       "      <th>1465</th>\n",
       "      <td>-0.101159</td>\n",
       "      <td>1.703764</td>\n",
       "      <td>-0.615492</td>\n",
       "      <td>-0.327893</td>\n",
       "      <td>-0.314873</td>\n",
       "      <td>0.735447</td>\n",
       "      <td>0.155707</td>\n",
       "      <td>-0.835451</td>\n",
       "      <td>False</td>\n",
       "      <td>673</td>\n",
       "      <td>534</td>\n",
       "      <td>144</td>\n",
       "      <td>459</td>\n",
       "      <td>453</td>\n",
       "      <td>893</td>\n",
       "      <td>277</td>\n",
       "      <td>282</td>\n",
       "      <td>1244</td>\n",
       "      <td>459</td>\n",
       "      <td>False</td>\n",
       "    </tr>\n",
       "    <tr>\n",
       "      <th>1466</th>\n",
       "      <td>0.227347</td>\n",
       "      <td>-0.393938</td>\n",
       "      <td>0.764998</td>\n",
       "      <td>-0.001333</td>\n",
       "      <td>0.806541</td>\n",
       "      <td>-0.293077</td>\n",
       "      <td>1.707500</td>\n",
       "      <td>0.741140</td>\n",
       "      <td>False</td>\n",
       "      <td>673</td>\n",
       "      <td>218</td>\n",
       "      <td>375</td>\n",
       "      <td>289</td>\n",
       "      <td>446</td>\n",
       "      <td>893</td>\n",
       "      <td>1043</td>\n",
       "      <td>170</td>\n",
       "      <td>1244</td>\n",
       "      <td>276</td>\n",
       "      <td>False</td>\n",
       "    </tr>\n",
       "    <tr>\n",
       "      <th>1467</th>\n",
       "      <td>-1.086676</td>\n",
       "      <td>-0.640727</td>\n",
       "      <td>-0.615492</td>\n",
       "      <td>-0.164613</td>\n",
       "      <td>-0.314873</td>\n",
       "      <td>-0.678774</td>\n",
       "      <td>-2.171982</td>\n",
       "      <td>-0.076690</td>\n",
       "      <td>True</td>\n",
       "      <td>673</td>\n",
       "      <td>534</td>\n",
       "      <td>144</td>\n",
       "      <td>280</td>\n",
       "      <td>287</td>\n",
       "      <td>893</td>\n",
       "      <td>1043</td>\n",
       "      <td>572</td>\n",
       "      <td>226</td>\n",
       "      <td>303</td>\n",
       "      <td>False</td>\n",
       "    </tr>\n",
       "    <tr>\n",
       "      <th>1468</th>\n",
       "      <td>1.322365</td>\n",
       "      <td>-0.887515</td>\n",
       "      <td>0.488900</td>\n",
       "      <td>0.325228</td>\n",
       "      <td>1.086895</td>\n",
       "      <td>0.735447</td>\n",
       "      <td>0.155707</td>\n",
       "      <td>-0.236474</td>\n",
       "      <td>False</td>\n",
       "      <td>673</td>\n",
       "      <td>534</td>\n",
       "      <td>375</td>\n",
       "      <td>280</td>\n",
       "      <td>446</td>\n",
       "      <td>344</td>\n",
       "      <td>277</td>\n",
       "      <td>572</td>\n",
       "      <td>1244</td>\n",
       "      <td>432</td>\n",
       "      <td>False</td>\n",
       "    </tr>\n",
       "    <tr>\n",
       "      <th>1469</th>\n",
       "      <td>-0.320163</td>\n",
       "      <td>-0.147150</td>\n",
       "      <td>-0.339394</td>\n",
       "      <td>-0.491174</td>\n",
       "      <td>-0.595227</td>\n",
       "      <td>-0.678774</td>\n",
       "      <td>0.155707</td>\n",
       "      <td>-0.445978</td>\n",
       "      <td>False</td>\n",
       "      <td>673</td>\n",
       "      <td>534</td>\n",
       "      <td>144</td>\n",
       "      <td>442</td>\n",
       "      <td>287</td>\n",
       "      <td>153</td>\n",
       "      <td>1043</td>\n",
       "      <td>572</td>\n",
       "      <td>1244</td>\n",
       "      <td>276</td>\n",
       "      <td>False</td>\n",
       "    </tr>\n",
       "  </tbody>\n",
       "</table>\n",
       "<p>1470 rows × 20 columns</p>\n",
       "</div>"
      ],
      "text/plain": [
       "           Age  DistanceFromHome  YearsInCurrentRole  YearsAtCompany  \\\n",
       "0     0.446350         -1.010909           -0.063296       -0.164613   \n",
       "1     1.322365         -0.147150            0.764998        0.488508   \n",
       "2     0.008343         -0.887515           -1.167687       -1.144294   \n",
       "3    -0.429664         -0.764121            0.764998        0.161947   \n",
       "4    -1.086676         -0.887515           -0.615492       -0.817734   \n",
       "...        ...               ...                 ...             ...   \n",
       "1465 -0.101159          1.703764           -0.615492       -0.327893   \n",
       "1466  0.227347         -0.393938            0.764998       -0.001333   \n",
       "1467 -1.086676         -0.640727           -0.615492       -0.164613   \n",
       "1468  1.322365         -0.887515            0.488900        0.325228   \n",
       "1469 -0.320163         -0.147150           -0.339394       -0.491174   \n",
       "\n",
       "      YearsWithCurrManager  TotalWorkingYears  TrainingTimesLastYear  \\\n",
       "0                 0.245834          -0.421642              -2.171982   \n",
       "1                 0.806541          -0.164511               0.155707   \n",
       "2                -1.155935          -0.550208               0.155707   \n",
       "3                -1.155935          -0.421642               0.155707   \n",
       "4                -0.595227          -0.678774               0.155707   \n",
       "...                    ...                ...                    ...   \n",
       "1465             -0.314873           0.735447               0.155707   \n",
       "1466              0.806541          -0.293077               1.707500   \n",
       "1467             -0.314873          -0.678774              -2.171982   \n",
       "1468              1.086895           0.735447               0.155707   \n",
       "1469             -0.595227          -0.678774               0.155707   \n",
       "\n",
       "      MonthlyIncome  OverTime_Yes  MaritalStatus  JobLevel  JobInvolvement  \\\n",
       "0         -0.108350          True            470       534             868   \n",
       "1         -0.291719         False            673       534             375   \n",
       "2         -0.937654          True            470       543             375   \n",
       "3         -0.763634          True            673       543             868   \n",
       "4         -0.644858         False            673       543             868   \n",
       "...             ...           ...            ...       ...             ...   \n",
       "1465      -0.835451         False            673       534             144   \n",
       "1466       0.741140         False            673       218             375   \n",
       "1467      -0.076690          True            673       534             144   \n",
       "1468      -0.236474         False            673       534             375   \n",
       "1469      -0.445978         False            673       534             144   \n",
       "\n",
       "      JobSatisfaction  EnvironmentSatisfaction  WorkLifeBalance  \\\n",
       "0                 459                      287               80   \n",
       "1                 280                      453              893   \n",
       "2                 442                      446              893   \n",
       "3                 442                      446              893   \n",
       "4                 280                      284              893   \n",
       "...               ...                      ...              ...   \n",
       "1465              459                      453              893   \n",
       "1466              289                      446              893   \n",
       "1467              280                      287              893   \n",
       "1468              280                      446              344   \n",
       "1469              442                      287              153   \n",
       "\n",
       "      BusinessTravel  Education  PerformanceRating  RelationshipSatisfaction  \\\n",
       "0               1043        282               1244                       276   \n",
       "1                277        170                226                       432   \n",
       "2               1043        282               1244                       303   \n",
       "3                277        398               1244                       459   \n",
       "4               1043        170               1244                       432   \n",
       "...              ...        ...                ...                       ...   \n",
       "1465             277        282               1244                       459   \n",
       "1466            1043        170               1244                       276   \n",
       "1467            1043        572                226                       303   \n",
       "1468             277        572               1244                       432   \n",
       "1469            1043        572               1244                       276   \n",
       "\n",
       "      Attrition_Yes  \n",
       "0              True  \n",
       "1             False  \n",
       "2              True  \n",
       "3             False  \n",
       "4             False  \n",
       "...             ...  \n",
       "1465          False  \n",
       "1466          False  \n",
       "1467          False  \n",
       "1468          False  \n",
       "1469          False  \n",
       "\n",
       "[1470 rows x 20 columns]"
      ]
     },
     "execution_count": 54,
     "metadata": {},
     "output_type": "execute_result"
    }
   ],
   "source": [
    "attrition_data"
   ]
  },
  {
   "cell_type": "markdown",
   "id": "9bcf8001",
   "metadata": {},
   "source": [
    "## Model Building"
   ]
  },
  {
   "cell_type": "markdown",
   "id": "436878de",
   "metadata": {},
   "source": [
    "### Spliting data"
   ]
  },
  {
   "cell_type": "code",
   "execution_count": 55,
   "id": "e57e5fae",
   "metadata": {
    "scrolled": true
   },
   "outputs": [],
   "source": [
    "from sklearn.model_selection import train_test_split\n",
    "\n",
    "X = attrition_data.drop('Attrition_Yes',axis=1).values\n",
    "y = attrition_data['Attrition_Yes'].values\n",
    "\n",
    "X_train, X_test, y_train, y_test = train_test_split(X, y, test_size=0.2, random_state=42,stratify=y)"
   ]
  },
  {
   "cell_type": "markdown",
   "id": "1b1f3a63",
   "metadata": {},
   "source": [
    "### Balance data"
   ]
  },
  {
   "cell_type": "code",
   "execution_count": 56,
   "id": "a9bf236e",
   "metadata": {},
   "outputs": [
    {
     "name": "stdout",
     "output_type": "stream",
     "text": [
      "Before oversampling:  [986 190]\n",
      "After oversampling:  [986 986]\n"
     ]
    }
   ],
   "source": [
    "#since the data has less positive sample, which means that is imbalanced, we use SMOTE to balance the data\n",
    "\n",
    "from imblearn.over_sampling import SMOTE\n",
    "\n",
    "print(\"Before oversampling: \", np.bincount(y_train))\n",
    "\n",
    "# Apply SMOTE\n",
    "sm = SMOTE(random_state=42)\n",
    "\n",
    "X_resampled, y_resampled = sm.fit_resample(X_train, y_train)\n",
    "\n",
    "print(\"After oversampling: \", np.bincount(y_resampled))"
   ]
  },
  {
   "cell_type": "markdown",
   "id": "ee251a23",
   "metadata": {},
   "source": [
    "### Logistic model"
   ]
  },
  {
   "cell_type": "code",
   "execution_count": 57,
   "id": "2fc42130",
   "metadata": {
    "scrolled": false
   },
   "outputs": [
    {
     "name": "stdout",
     "output_type": "stream",
     "text": [
      "Logistic regression model: \n",
      "\n",
      "Sensitivity of 5-folds: [0.7106598984771574, 0.696969696969697, 0.7817258883248731, 0.7461928934010152, 0.7461928934010152] (mean sensitivity: 0.7363482541147516 )\n"
     ]
    }
   ],
   "source": [
    "from sklearn.linear_model import LogisticRegression\n",
    "from sklearn.model_selection import StratifiedKFold\n",
    "from sklearn.metrics import recall_score,accuracy_score\n",
    "\n",
    "\n",
    "skf = StratifiedKFold(n_splits=5,random_state=1,shuffle=True)\n",
    "\n",
    "LG_model = LogisticRegression(max_iter=10000)\n",
    "\n",
    "sensitivity = []\n",
    "\n",
    "for train_idx, test_idx in skf.split(X_resampled, y_resampled):\n",
    "    X_train_fold, X_test_fold = X_resampled[train_idx], X_resampled[test_idx]\n",
    "    y_train_fold, y_test_fold = y_resampled[train_idx], y_resampled[test_idx]\n",
    "\n",
    "    \n",
    "    LG_model.fit(X_train_fold,y_train_fold)\n",
    "    y_pred = LG_model.predict(X_test_fold)\n",
    "    \n",
    "    rec = recall_score(y_test_fold, y_pred)\n",
    "    sensitivity.append(rec)\n",
    "\n",
    "print(\"Logistic regression model: \\n\")\n",
    "print(\"Sensitivity of 5-folds:\",sensitivity,\"(mean sensitivity:\",np.mean(sensitivity),\")\")"
   ]
  },
  {
   "cell_type": "code",
   "execution_count": 58,
   "id": "9a4607d5",
   "metadata": {},
   "outputs": [
    {
     "name": "stdout",
     "output_type": "stream",
     "text": [
      "Held-out test set sensitivity: 0.723404255319149\n",
      "Held-out test set classification error: 0.29591836734693877\n"
     ]
    }
   ],
   "source": [
    "LG_model = LogisticRegression(max_iter=10000)\n",
    "LG_model.fit(X_resampled, y_resampled)\n",
    "y_pred = LG_model.predict(X_test)\n",
    "sensitivity=recall_score(y_test, y_pred)\n",
    "error= 1-accuracy_score(y_test, y_pred)\n",
    "print(\"Held-out test set sensitivity:\", sensitivity)\n",
    "print(\"Held-out test set classification error:\", error)"
   ]
  },
  {
   "cell_type": "code",
   "execution_count": 59,
   "id": "903b5668",
   "metadata": {},
   "outputs": [
    {
     "name": "stdout",
     "output_type": "stream",
     "text": [
      "[[173  74]\n",
      " [ 13  34]]\n"
     ]
    }
   ],
   "source": [
    "from sklearn.metrics import confusion_matrix\n",
    "import seaborn as sns\n",
    "import matplotlib.pyplot as plt\n",
    "\n",
    "cm = confusion_matrix(y_test, y_pred)\n",
    "print(cm)"
   ]
  },
  {
   "cell_type": "code",
   "execution_count": 60,
   "id": "79ceace4",
   "metadata": {
    "scrolled": true
   },
   "outputs": [
    {
     "data": {
      "image/png": "[encoded data removed]",
      "text/plain": [
       "<Figure size 640x480 with 2 Axes>"
      ]
     },
     "metadata": {},
     "output_type": "display_data"
    }
   ],
   "source": [
    "sns.heatmap(cm, annot=True, fmt='g', cmap=\"Blues\")\n",
    "plt.xlabel('Predicted labels')\n",
    "plt.ylabel('True labels')\n",
    "plt.title('Confusion Matrix')\n",
    "plt.show()"
   ]
  },
  {
   "cell_type": "markdown",
   "id": "320fd070",
   "metadata": {},
   "source": [
    "### LDA model"
   ]
  },
  {
   "cell_type": "code",
   "execution_count": 61,
   "id": "9ac074f9",
   "metadata": {
    "scrolled": false
   },
   "outputs": [
    {
     "name": "stdout",
     "output_type": "stream",
     "text": [
      "LDA regression model: \n",
      "\n",
      "Sensitivity of 5-folds: [0.7208121827411168, 0.696969696969697, 0.7918781725888325, 0.751269035532995, 0.751269035532995] (mean sensitivity: 0.7424396246731273 )\n"
     ]
    }
   ],
   "source": [
    "from sklearn.discriminant_analysis import LinearDiscriminantAnalysis\n",
    "from sklearn.model_selection import StratifiedKFold\n",
    "from sklearn.metrics import recall_score\n",
    "\n",
    "skf = StratifiedKFold(n_splits=5,random_state=1,shuffle=True)\n",
    "\n",
    "LDA_model = LinearDiscriminantAnalysis()\n",
    "\n",
    "sensitivity = []\n",
    "\n",
    "for train_idx, test_idx in skf.split(X_resampled, y_resampled):\n",
    "    X_train_fold, X_test_fold = X_resampled[train_idx], X_resampled[test_idx]\n",
    "    y_train_fold, y_test_fold = y_resampled[train_idx], y_resampled[test_idx]\n",
    "    \n",
    "    LDA_model.fit(X_train_fold, y_train_fold)\n",
    "    \n",
    "    y_pred = LDA_model.predict(X_test_fold)\n",
    "    \n",
    "    rec = recall_score(y_test_fold, y_pred)\n",
    "    \n",
    "    sensitivity.append(rec)\n",
    "\n",
    "print(\"LDA regression model: \\n\")\n",
    "print(\"Sensitivity of 5-folds:\",sensitivity,\"(mean sensitivity:\",np.mean(sensitivity),\")\")"
   ]
  },
  {
   "cell_type": "code",
   "execution_count": 62,
   "id": "dc964029",
   "metadata": {},
   "outputs": [
    {
     "name": "stdout",
     "output_type": "stream",
     "text": [
      "Held-out test set sensitivity: 0.723404255319149\n",
      "Held-out test set classification error: 0.30272108843537415\n"
     ]
    }
   ],
   "source": [
    "LDA_model = LinearDiscriminantAnalysis()\n",
    "LDA_model.fit(X_resampled, y_resampled)\n",
    "y_pred = LDA_model.predict(X_test)\n",
    "sensitivity=recall_score(y_test, y_pred)\n",
    "error= 1-accuracy_score(y_test, y_pred)\n",
    "print(\"Held-out test set sensitivity:\", sensitivity)\n",
    "print(\"Held-out test set classification error:\", error)"
   ]
  },
  {
   "cell_type": "code",
   "execution_count": 63,
   "id": "bd55d79b",
   "metadata": {},
   "outputs": [
    {
     "name": "stdout",
     "output_type": "stream",
     "text": [
      "[[171  76]\n",
      " [ 13  34]]\n"
     ]
    }
   ],
   "source": [
    "from sklearn.metrics import confusion_matrix\n",
    "import seaborn as sns\n",
    "import matplotlib.pyplot as plt\n",
    "\n",
    "cm = confusion_matrix(y_test, y_pred)\n",
    "print(cm)"
   ]
  },
  {
   "cell_type": "code",
   "execution_count": 64,
   "id": "92bdc7c0",
   "metadata": {
    "scrolled": true
   },
   "outputs": [
    {
     "data": {
      "image/png": "[encoded data removed]",
      "text/plain": [
       "<Figure size 640x480 with 2 Axes>"
      ]
     },
     "metadata": {},
     "output_type": "display_data"
    }
   ],
   "source": [
    "sns.heatmap(cm, annot=True, fmt='g', cmap=\"Blues\")\n",
    "plt.xlabel('Predicted labels')\n",
    "plt.ylabel('True labels')\n",
    "plt.title('Confusion Matrix')\n",
    "plt.show()"
   ]
  },
  {
   "cell_type": "markdown",
   "id": "91108b96",
   "metadata": {},
   "source": [
    "### KNN model"
   ]
  },
  {
   "cell_type": "code",
   "execution_count": 65,
   "id": "8b1cc488",
   "metadata": {
    "scrolled": false
   },
   "outputs": [
    {
     "name": "stdout",
     "output_type": "stream",
     "text": [
      "KNN classification model with 3 nighbors: \n",
      "\n",
      "Sensitivity of 5-folds: [0.9543147208121827, 0.9343434343434344, 0.9238578680203046, 0.9137055837563451, 0.8934010152284264] (mean sensitivity: 0.9239245244321387 )\n",
      "\n",
      "\n",
      "KNN classification model with 4 nighbors: \n",
      "\n",
      "Sensitivity of 5-folds: [0.8730964467005076, 0.8888888888888888, 0.9086294416243654, 0.868020304568528, 0.8375634517766497] (mean sensitivity: 0.875239706711788 )\n",
      "\n",
      "\n",
      "KNN classification model with 5 nighbors: \n",
      "\n",
      "Sensitivity of 5-folds: [0.9137055837563451, 0.9292929292929293, 0.9390862944162437, 0.9035532994923858, 0.8934010152284264] (mean sensitivity: 0.915807824437266 )\n",
      "\n",
      "\n",
      "KNN classification model with 6 nighbors: \n",
      "\n",
      "Sensitivity of 5-folds: [0.8578680203045685, 0.8838383838383839, 0.8934010152284264, 0.8883248730964467, 0.8274111675126904] (mean sensitivity: 0.8701686919961032 )\n",
      "\n",
      "\n",
      "KNN classification model with 7 nighbors: \n",
      "\n",
      "Sensitivity of 5-folds: [0.9035532994923858, 0.9141414141414141, 0.9137055837563451, 0.9187817258883249, 0.8629441624365483] (mean sensitivity: 0.9026252371430037 )\n",
      "\n",
      "\n",
      "KNN classification model with 8 nighbors: \n",
      "\n",
      "Sensitivity of 5-folds: [0.8477157360406091, 0.8838383838383839, 0.8984771573604061, 0.868020304568528, 0.817258883248731] (mean sensitivity: 0.8630620930113316 )\n",
      "\n",
      "\n",
      "KNN classification model with 9 nighbors: \n",
      "\n",
      "Sensitivity of 5-folds: [0.8730964467005076, 0.9191919191919192, 0.934010152284264, 0.8883248730964467, 0.8527918781725888] (mean sensitivity: 0.8934830538891452 )\n",
      "\n",
      "\n",
      "KNN classification model with 10 nighbors: \n",
      "\n",
      "Sensitivity of 5-folds: [0.8274111675126904, 0.8838383838383839, 0.8984771573604061, 0.8527918781725888, 0.8020304568527918] (mean sensitivity: 0.8529098087473722 )\n",
      "\n",
      "\n"
     ]
    }
   ],
   "source": [
    "from sklearn.neighbors import KNeighborsClassifier\n",
    "from sklearn.model_selection import StratifiedKFold\n",
    "from sklearn.metrics import recall_score,accuracy_score\n",
    "\n",
    "skf = StratifiedKFold(n_splits=5,random_state=1,shuffle=True)\n",
    "\n",
    "neighbor=np.arange(3,11)\n",
    "\n",
    "for i in neighbor:\n",
    "    KNN_model = KNeighborsClassifier(n_neighbors=i)\n",
    "    \n",
    "    sensitivity = []\n",
    "    \n",
    "    for train_idx, test_idx in skf.split(X_resampled, y_resampled):\n",
    "        X_train_fold, X_test_fold = X_resampled[train_idx],X_resampled[test_idx]\n",
    "        y_train_fold, y_test_fold = y_resampled[train_idx], y_resampled[test_idx]\n",
    "    \n",
    "        KNN_model.fit(X_train_fold, y_train_fold)\n",
    "        \n",
    "        y_pred = KNN_model.predict(X_test_fold)\n",
    "    \n",
    "        rec = recall_score(y_test_fold, y_pred)\n",
    "    \n",
    "        sensitivity.append(rec)\n",
    "        \n",
    "    print(f\"KNN classification model with {i} nighbors: \\n\")\n",
    "    print(\"Sensitivity of 5-folds:\",sensitivity,\"(mean sensitivity:\",np.mean(sensitivity),\")\")\n",
    "    print(\"\\n\")"
   ]
  },
  {
   "cell_type": "code",
   "execution_count": 66,
   "id": "dd8a7df3",
   "metadata": {},
   "outputs": [
    {
     "name": "stdout",
     "output_type": "stream",
     "text": [
      "Held-out test set sensitivity: 0.2765957446808511\n",
      "Held-out test set classification error: 0.33333333333333337\n"
     ]
    }
   ],
   "source": [
    "KNN_model = KNeighborsClassifier(n_neighbors=4)\n",
    "KNN_model.fit(X_resampled, y_resampled)\n",
    "y_pred = KNN_model.predict(X_test)\n",
    "sensitivity = recall_score(y_test, y_pred)\n",
    "error= 1-accuracy_score(y_test, y_pred)\n",
    "print(\"Held-out test set sensitivity:\", sensitivity)\n",
    "print(\"Held-out test set classification error:\", error)"
   ]
  },
  {
   "cell_type": "code",
   "execution_count": 67,
   "id": "10f135d9",
   "metadata": {},
   "outputs": [
    {
     "name": "stdout",
     "output_type": "stream",
     "text": [
      "[[183  64]\n",
      " [ 34  13]]\n"
     ]
    }
   ],
   "source": [
    "from sklearn.metrics import confusion_matrix\n",
    "import seaborn as sns\n",
    "import matplotlib.pyplot as plt\n",
    "\n",
    "cm = confusion_matrix(y_test, y_pred)\n",
    "print(cm)"
   ]
  },
  {
   "cell_type": "code",
   "execution_count": 68,
   "id": "d9dc8c9e",
   "metadata": {
    "scrolled": true
   },
   "outputs": [
    {
     "data": {
      "image/png": "[encoded data removed]",
      "text/plain": [
       "<Figure size 640x480 with 2 Axes>"
      ]
     },
     "metadata": {},
     "output_type": "display_data"
    }
   ],
   "source": [
    "sns.heatmap(cm, annot=True, fmt='g', cmap=\"Blues\")\n",
    "plt.xlabel('Predicted labels')\n",
    "plt.ylabel('True labels')\n",
    "plt.title('Confusion Matrix')\n",
    "plt.show()"
   ]
  },
  {
   "cell_type": "markdown",
   "id": "6152ad4c",
   "metadata": {},
   "source": [
    "### Decision tree model"
   ]
  },
  {
   "cell_type": "code",
   "execution_count": 69,
   "id": "4adaaa81",
   "metadata": {},
   "outputs": [
    {
     "name": "stdout",
     "output_type": "stream",
     "text": [
      "Decision tree classification model : \n",
      "\n",
      "Sensitivity of 5-folds: [0.8629441624365483, 0.8232323232323232, 0.8730964467005076, 0.8020304568527918, 0.8984771573604061] (mean sensitivity: 0.8519561093165153 )\n"
     ]
    }
   ],
   "source": [
    "from sklearn.tree import DecisionTreeClassifier\n",
    "from sklearn.model_selection import StratifiedKFold\n",
    "from sklearn.metrics import accuracy_score\n",
    "\n",
    "\n",
    "DTC_model = DecisionTreeClassifier()\n",
    "\n",
    "skf = StratifiedKFold(n_splits=5,random_state=1,shuffle=True)\n",
    "\n",
    "sensitivity = []\n",
    "\n",
    "for train_idx, test_idx in skf.split(X_resampled, y_resampled):\n",
    "    X_train_fold, X_test_fold = X_resampled[train_idx], X_resampled[test_idx]\n",
    "    y_train_fold, y_test_fold = y_resampled[train_idx], y_resampled[test_idx]\n",
    "    \n",
    "    DTC_model.fit(X_train_fold, y_train_fold)\n",
    "    \n",
    "    y_pred = DTC_model.predict(X_test_fold)\n",
    "    \n",
    "    rec = recall_score(y_test_fold, y_pred)\n",
    "    \n",
    "    sensitivity.append(rec)\n",
    "    \n",
    "\n",
    "print(f\"Decision tree classification model : \\n\")\n",
    "print(\"Sensitivity of 5-folds:\",sensitivity,\"(mean sensitivity:\",np.mean(sensitivity),\")\")"
   ]
  },
  {
   "cell_type": "code",
   "execution_count": 70,
   "id": "e4a53b88",
   "metadata": {},
   "outputs": [
    {
     "name": "stdout",
     "output_type": "stream",
     "text": [
      "Held-out test set sensitivity: 0.2978723404255319\n",
      "Held-out test set classification error: 0.24489795918367352\n"
     ]
    }
   ],
   "source": [
    "from sklearn.tree import DecisionTreeClassifier\n",
    "DTC_model = DecisionTreeClassifier()\n",
    "DTC_model.fit(X_resampled, y_resampled)\n",
    "y_pred = DTC_model.predict(X_test)\n",
    "sensitivity = recall_score(y_test, y_pred)\n",
    "error= 1-accuracy_score(y_test, y_pred)\n",
    "print(\"Held-out test set sensitivity:\", sensitivity)\n",
    "print(\"Held-out test set classification error:\", error)"
   ]
  },
  {
   "cell_type": "code",
   "execution_count": 71,
   "id": "ff24423c",
   "metadata": {},
   "outputs": [
    {
     "name": "stdout",
     "output_type": "stream",
     "text": [
      "[[208  39]\n",
      " [ 33  14]]\n"
     ]
    }
   ],
   "source": [
    "from sklearn.metrics import confusion_matrix\n",
    "import seaborn as sns\n",
    "import matplotlib.pyplot as plt\n",
    "\n",
    "cm = confusion_matrix(y_test, y_pred)\n",
    "print(cm)"
   ]
  },
  {
   "cell_type": "code",
   "execution_count": 72,
   "id": "8922ed91",
   "metadata": {
    "scrolled": true
   },
   "outputs": [
    {
     "data": {
      "image/png": "[encoded data removed]",
      "text/plain": [
       "<Figure size 640x480 with 2 Axes>"
      ]
     },
     "metadata": {},
     "output_type": "display_data"
    }
   ],
   "source": [
    "sns.heatmap(cm, annot=True, fmt='g', cmap=\"Blues\")\n",
    "plt.xlabel('Predicted labels')\n",
    "plt.ylabel('True labels')\n",
    "plt.title('Confusion Matrix')\n",
    "plt.show()"
   ]
  },
  {
   "cell_type": "markdown",
   "id": "53ef0343",
   "metadata": {},
   "source": [
    "### Random forest model"
   ]
  },
  {
   "cell_type": "code",
   "execution_count": 73,
   "id": "2c671738",
   "metadata": {
    "scrolled": false
   },
   "outputs": [
    {
     "name": "stdout",
     "output_type": "stream",
     "text": [
      "Random forest classification model with 100 estimators: \n",
      "\n",
      "sensitivity of 5-folds: [0.9137055837563451, 0.8585858585858586, 0.868020304568528, 0.8578680203045685, 0.8984771573604061] (mean sensitivity: 0.8793313849151414 )\n",
      "\n",
      "\n",
      "Random forest classification model with 150 estimators: \n",
      "\n",
      "sensitivity of 5-folds: [0.9035532994923858, 0.8585858585858586, 0.8883248730964467, 0.8781725888324873, 0.8934010152284264] (mean sensitivity: 0.884407527047121 )\n",
      "\n",
      "\n",
      "Random forest classification model with 200 estimators: \n",
      "\n",
      "sensitivity of 5-folds: [0.9035532994923858, 0.8585858585858586, 0.8883248730964467, 0.8629441624365483, 0.8883248730964467] (mean sensitivity: 0.8803466133415373 )\n",
      "\n",
      "\n",
      "Random forest classification model with 250 estimators: \n",
      "\n",
      "sensitivity of 5-folds: [0.9137055837563451, 0.8535353535353535, 0.8984771573604061, 0.868020304568528, 0.8883248730964467] (mean sensitivity: 0.8844126544634159 )\n",
      "\n",
      "\n",
      "Random forest classification model with 300 estimators: \n",
      "\n",
      "sensitivity of 5-folds: [0.9137055837563451, 0.8737373737373737, 0.883248730964467, 0.868020304568528, 0.8934010152284264] (mean sensitivity: 0.8864226016510282 )\n",
      "\n",
      "\n",
      "Random forest classification model with 350 estimators: \n",
      "\n",
      "sensitivity of 5-folds: [0.9086294416243654, 0.8737373737373737, 0.883248730964467, 0.868020304568528, 0.8934010152284264] (mean sensitivity: 0.8854073732246321 )\n",
      "\n",
      "\n",
      "Random forest classification model with 400 estimators: \n",
      "\n",
      "sensitivity of 5-folds: [0.9086294416243654, 0.8686868686868687, 0.883248730964467, 0.8629441624365483, 0.8883248730964467] (mean sensitivity: 0.8823668153617392 )\n",
      "\n",
      "\n",
      "Random forest classification model with 450 estimators: \n",
      "\n",
      "sensitivity of 5-folds: [0.9137055837563451, 0.8787878787878788, 0.883248730964467, 0.8781725888324873, 0.8984771573604061] (mean sensitivity: 0.8904783879403169 )\n",
      "\n",
      "\n",
      "Random forest classification model with 500 estimators: \n",
      "\n",
      "sensitivity of 5-folds: [0.9086294416243654, 0.8535353535353535, 0.8934010152284264, 0.8629441624365483, 0.8934010152284264] (mean sensitivity: 0.882382197610624 )\n",
      "\n",
      "\n"
     ]
    }
   ],
   "source": [
    "from sklearn.ensemble import RandomForestClassifier\n",
    "from sklearn.model_selection import StratifiedKFold\n",
    "from sklearn.metrics import accuracy_score\n",
    "\n",
    "estimators=np.arange(100,550,50)\n",
    "\n",
    "for i in estimators:\n",
    "    \n",
    "    skf = StratifiedKFold(n_splits=5,random_state=1,shuffle=True)\n",
    "    RFC_model = RandomForestClassifier(n_estimators=i)\n",
    "\n",
    "    sensitivity = []\n",
    "\n",
    "    for train_idx, test_idx in skf.split(X_resampled,y_resampled):\n",
    "        X_train_fold, X_test_fold = X_resampled[train_idx], X_resampled[test_idx]\n",
    "        y_train_fold, y_test_fold = y_resampled[train_idx], y_resampled[test_idx]\n",
    "\n",
    "\n",
    "        RFC_model.fit(X_train_fold, y_train_fold)\n",
    "\n",
    "        y_pred = RFC_model.predict(X_test_fold)\n",
    "    \n",
    "        rec = recall_score(y_test_fold, y_pred)\n",
    "    \n",
    "        sensitivity.append(rec)\n",
    "\n",
    "    print(f\"Random forest classification model with {i} estimators: \\n\")\n",
    "    print(\"sensitivity of 5-folds:\",sensitivity,\"(mean sensitivity:\",np.mean(sensitivity),\")\")\n",
    "    print(\"\\n\")"
   ]
  },
  {
   "cell_type": "code",
   "execution_count": 74,
   "id": "9baee068",
   "metadata": {},
   "outputs": [
    {
     "name": "stdout",
     "output_type": "stream",
     "text": [
      "Held-out test set sensitivity: 0.3829787234042553\n",
      "Held-out test set classification error: 0.15646258503401356\n"
     ]
    }
   ],
   "source": [
    "RFC_model = RandomForestClassifier(n_estimators=400)\n",
    "RFC_model.fit(X_resampled, y_resampled)\n",
    "y_pred = RFC_model.predict(X_test)\n",
    "sensitivity = recall_score(y_test, y_pred)\n",
    "error= 1-accuracy_score(y_test, y_pred)\n",
    "print(\"Held-out test set sensitivity:\", sensitivity)\n",
    "print(\"Held-out test set classification error:\", error)"
   ]
  },
  {
   "cell_type": "code",
   "execution_count": 75,
   "id": "d5f67e7f",
   "metadata": {},
   "outputs": [
    {
     "name": "stdout",
     "output_type": "stream",
     "text": [
      "[[230  17]\n",
      " [ 29  18]]\n"
     ]
    }
   ],
   "source": [
    "from sklearn.metrics import confusion_matrix\n",
    "import seaborn as sns\n",
    "import matplotlib.pyplot as plt\n",
    "\n",
    "cm = confusion_matrix(y_test, y_pred)\n",
    "print(cm)"
   ]
  },
  {
   "cell_type": "code",
   "execution_count": 76,
   "id": "3ad906b0",
   "metadata": {
    "scrolled": true
   },
   "outputs": [
    {
     "data": {
      "image/png": "[encoded data removed]",
      "text/plain": [
       "<Figure size 640x480 with 2 Axes>"
      ]
     },
     "metadata": {},
     "output_type": "display_data"
    }
   ],
   "source": [
    "sns.heatmap(cm, annot=True, fmt='g', cmap=\"Blues\")\n",
    "plt.xlabel('Predicted labels')\n",
    "plt.ylabel('True labels')\n",
    "plt.title('Confusion Matrix')\n",
    "plt.show()"
   ]
  },
  {
   "cell_type": "markdown",
   "id": "a19f639d",
   "metadata": {},
   "source": [
    "* In KNN, DT, RF, the sensitivity is high in cross validation process, but drop significantly in out of sample data, which mean those model can't predict very well on unseen data. This may be cause from resampling the unbalance training data but not resampling the test data. However, it is not recommend to resampling the test data because it represent the real world senario. It may also cause from overfitting, KNN, RF, and DT can capture complex interaction between features and noise, resulting in overfitting."
   ]
  },
  {
   "cell_type": "markdown",
   "id": "ba890100",
   "metadata": {},
   "source": [
    "## Best model LG model: highest sensitivity with relative low classification error"
   ]
  },
  {
   "cell_type": "code",
   "execution_count": 77,
   "id": "8800b4e2",
   "metadata": {},
   "outputs": [
    {
     "name": "stdout",
     "output_type": "stream",
     "text": [
      "Held-out test set sensitivity: 0.723404255319149\n",
      "Held-out test set classification error: 0.29591836734693877\n"
     ]
    }
   ],
   "source": [
    "LG_model = LogisticRegression(max_iter=10000)\n",
    "LG_model.fit(X_resampled, y_resampled)\n",
    "y_pred = LG_model.predict(X_test)\n",
    "sensitivity = recall_score(y_test, y_pred)\n",
    "error= 1-accuracy_score(y_test, y_pred)\n",
    "print(\"Held-out test set sensitivity:\", sensitivity)\n",
    "print(\"Held-out test set classification error:\", error)"
   ]
  },
  {
   "cell_type": "code",
   "execution_count": 78,
   "id": "fff574e3",
   "metadata": {},
   "outputs": [
    {
     "name": "stdout",
     "output_type": "stream",
     "text": [
      "[[173  74]\n",
      " [ 13  34]]\n"
     ]
    }
   ],
   "source": [
    "from sklearn.metrics import confusion_matrix\n",
    "import seaborn as sns\n",
    "import matplotlib.pyplot as plt\n",
    "\n",
    "cm = confusion_matrix(y_test, y_pred)\n",
    "print(cm)"
   ]
  },
  {
   "cell_type": "code",
   "execution_count": 79,
   "id": "c1223199",
   "metadata": {
    "scrolled": true
   },
   "outputs": [
    {
     "data": {
      "image/png": "[encoded data removed]",
      "text/plain": [
       "<Figure size 640x480 with 2 Axes>"
      ]
     },
     "metadata": {},
     "output_type": "display_data"
    }
   ],
   "source": [
    "sns.heatmap(cm, annot=True, fmt='g', cmap=\"Blues\")\n",
    "plt.xlabel('Predicted labels')\n",
    "plt.ylabel('True labels')\n",
    "plt.title('Confusion Matrix')\n",
    "plt.show()"
   ]
  },
  {
   "cell_type": "markdown",
   "id": "87949f1b",
   "metadata": {},
   "source": [
    "## Best-worst scenario analysis"
   ]
  },
  {
   "cell_type": "markdown",
   "id": "dcf63fb0",
   "metadata": {},
   "source": [
    " **best-worst scenario** for an employee who leaves a company.\n",
    "\n",
    "|                                  | Best scenario | Worst scenario |\n",
    "|----------------------------------|---------------|----------------|\n",
    "| **Cost \\($\\)**                   | 4,000         | 7,645          |\n",
    "| **Time to fill a position \\(days\\)** | 42        | 52             |\n",
    "\n",
    "Testing the model using a data set containing 294 records, it was able to correctly identify 34 (True Positives) and miss 13 (the False Negatives) from a total of 47 employees who tend to leave. Translating to the best-worst scenario, this means:\n",
    "\n",
    "|                                  | Best scenario | Worst scenario |\n",
    "|----------------------------------|---------------|----------------|\n",
    "| **Total loss prevented \\($\\)**   | 136000        | 259930         |\n",
    "| **Total time saved \\(days\\)**    | 1428          | 1768           |\n",
    "\n",
    "\n",
    "In addition, **without the model**, the company would have 47 employees that could leave, translating it to **a total loss of \\\\$ 188,000 in the best scenario and \\\\$ 359,315 in the worst scenario**."
   ]
  },
  {
   "cell_type": "markdown",
   "id": "94bf047f",
   "metadata": {},
   "source": [
    "## Top five factors"
   ]
  },
  {
   "cell_type": "code",
   "execution_count": 80,
   "id": "54418dfe",
   "metadata": {},
   "outputs": [],
   "source": [
    "from sklearn.ensemble import RandomForestClassifier\n",
    "\n",
    "rf = RandomForestClassifier(n_estimators=100, random_state=42)\n",
    "rf.fit(X_train, y_train)\n",
    "\n",
    "# Extract all importance values\n",
    "importances = rf.feature_importances_\n",
    "\n",
    "# If X_train is a pandas DataFrame, get feature names, else use a predefined list\n",
    "feature_names = attrition_data.drop('Attrition_Yes',axis=1).columns\n",
    "\n",
    "# Sort features based on importance\n",
    "sorted_indices = np.argsort(importances)\n",
    "sorted_importances = importances[sorted_indices][::-1]\n",
    "sorted_feature_names = [feature_names[i] for i in sorted_indices][::-1]"
   ]
  },
  {
   "cell_type": "code",
   "execution_count": 81,
   "id": "5ba96d2b",
   "metadata": {},
   "outputs": [
    {
     "name": "stdout",
     "output_type": "stream",
     "text": [
      "Percentage contribution of the top 5 features: 45.85%\n"
     ]
    }
   ],
   "source": [
    "# Calculate the sum of importance values\n",
    "total_importance = sum(sorted_importances)\n",
    "\n",
    "# Calculate the percentage contribution of the top 5 features\n",
    "top_n = 5\n",
    "top_n_importance = sum(sorted_importances[:top_n])\n",
    "top_n_percentage = (top_n_importance / total_importance) * 100\n",
    "\n",
    "print(f\"Percentage contribution of the top {top_n} features: {top_n_percentage:.2f}%\")\n"
   ]
  },
  {
   "cell_type": "code",
   "execution_count": 82,
   "id": "9883bef4",
   "metadata": {
    "scrolled": false
   },
   "outputs": [
    {
     "data": {
      "image/png": "[encoded data removed]",
      "text/plain": [
       "<Figure size 1200x800 with 1 Axes>"
      ]
     },
     "metadata": {},
     "output_type": "display_data"
    }
   ],
   "source": [
    "# Plotting\n",
    "import matplotlib.pyplot as plt\n",
    "\n",
    "# Create a list of colors. Set the color for the bottom five features to 'red', and the rest to 'skyblue'.\n",
    "colors = ['red' if i >= len(sorted_importances) - 5 else 'skyblue' for i in range(len(sorted_importances))]\n",
    "\n",
    "plt.figure(figsize=(12, 8))\n",
    "sns.barplot(x = sorted_importances ,y= sorted_feature_names , palette='rocket')\n",
    "plt.xlabel('Importance')\n",
    "plt.ylabel('Feature')\n",
    "plt.title(\"Key Features\", fontsize=16, fontweight=\"bold\")\n",
    "plt.show()"
   ]
  },
  {
   "cell_type": "markdown",
   "id": "1d610229",
   "metadata": {},
   "source": [
    "* Top five factors are monthly income, age, total working years, distance from home, and years at company. If company wants to reduce turnover rate, company should take care of these factors. To be more specific, talk to those employees who earn less, are older, working less year, far from company and working less years in company."
   ]
  },
  {
   "cell_type": "markdown",
   "id": "001c1d53",
   "metadata": {},
   "source": [
    "# Result"
   ]
  },
  {
   "cell_type": "markdown",
   "id": "4110a78e",
   "metadata": {},
   "source": [
    "* The best model is logistic regression model, the model could result in savings ranging from 136,000 to 259,930 and a time reduction of 1,428 to 1,768 days.\n",
    "\n",
    "* The top five factors are monthly income, age, total working years, distance from home, and years at company."
   ]
  }
 ],
 "metadata": {
  "kernelspec": {
   "display_name": "Python 3 (ipykernel)",
   "language": "python",
   "name": "python3"
  },
  "language_info": {
   "codemirror_mode": {
    "name": "ipython",
    "version": 3
   },
   "file_extension": ".py",
   "mimetype": "text/x-python",
   "name": "python",
   "nbconvert_exporter": "python",
   "pygments_lexer": "ipython3",
   "version": "3.11.4"
  }
 },
 "nbformat": 4,
 "nbformat_minor": 5
}
